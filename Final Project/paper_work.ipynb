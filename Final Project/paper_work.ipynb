{
 "cells": [
  {
   "cell_type": "code",
   "execution_count": 1,
   "id": "0b795cdb",
   "metadata": {},
   "outputs": [],
   "source": [
    "import os\n",
    "import sqlite3\n",
    "import numpy as np\n",
    "import pandas as pd\n",
    "import sqlite3"
   ]
  },
  {
   "cell_type": "markdown",
   "id": "2c640f5a",
   "metadata": {},
   "source": [
    "Our prototype consists of the following storage system `ExtendedObjectStorage` that can serve as a \"catalog\" for object storage (AWS S3, IBM cos etc) using SQLITE. The storage includes all basic file operations, but the main purpose of the prototype is to support <u>artificial renaming</u> in object storage, as further discussed in our paper *Spark and Object Storage*."
   ]
  },
  {
   "cell_type": "code",
   "execution_count": 2,
   "id": "2219a785",
   "metadata": {},
   "outputs": [],
   "source": [
    "class ExtendedObjectStorage():\n",
    "    def __init__(self, database):\n",
    "        self.conn = sqlite3.connect(database)\n",
    "        self.c = self.conn.cursor()\n",
    "    \n",
    "    def __check_directory_exist(self, directory_name):\n",
    "        '''Check if directory exists'''\n",
    "\n",
    "        return self.conn.cursor().execute(f''' SELECT count(name) FROM sqlite_master WHERE type='table' AND name='{directory_name}' ''').fetchall()[0][0]\n",
    "\n",
    "    def create_object(self, directory, filename, data=''):\n",
    "        assert self.__check_directory_exist, f'Directory {directory} does not exist'\n",
    "        try:\n",
    "            self.conn.execute(f'''INSERT INTO {directory} (directory,filename, data) VALUES\n",
    "                (\"{directory}/\", \"{filename}\", \"{data}\")'''\n",
    "            )\n",
    "            self.conn.commit()\n",
    "        except sqlite3.IntegrityError:\n",
    "            raise sqlite3.IntegrityError(f\"Another file named '{filename}' exists under directory '{directory}'\")\n",
    "        \n",
    "    \n",
    "    def get_object(self, directory, filename):\n",
    "        assert self.__check_directory_exist, f'Directory {directory} does not exist'\n",
    "        try:\n",
    "            return pd.read_sql(f'''SELECT data FROM {directory}\n",
    "                                WHERE filename = \"{filename}\"''', con=self.conn)['data'][0]\n",
    "        except IndexError:\n",
    "            raise ValueError(f\"No file named '{filename}' exists under directory '{directory}'\")\n",
    "    \n",
    "    def delete_object(self, directory, filename):\n",
    "        self.get_object(directory, filename)  # check if file exists\n",
    "        self.c.execute(f'''DELETE FROM {directory}\n",
    "                           WHERE filename = \"{filename}\"''')\n",
    "        self.conn.commit()\n",
    "    \n",
    "    def create_directory(self, directory_name):\n",
    "        assert not self.__check_directory_exist(directory_name), f\"Directory '{directory_name}' already exists\"\n",
    "    \n",
    "        self.c.execute(f'''CREATE TABLE {directory_name}(\n",
    "        directory VARCHAR(120), \n",
    "        filename VARCHAR(120) PRIMARY KEY,\n",
    "        last_modified DATETIME DEFAULT CURRENT_TIMESTAMP,\n",
    "        data BLOB\n",
    "        )''')\n",
    "        self.conn.commit()\n",
    "    \n",
    "    def delete_directory(self, directory_name):\n",
    "        assert self.__check_directory_exist(directory_name), f\"Directory '{directory_name}' does not exist\"\n",
    "        self.c.execute(f'''DROP TABLE {directory_name}''')\n",
    "        self.conn.commit()\n",
    "    \n",
    "    def list_directory(self, directory_name):\n",
    "        assert self.__check_directory_exist(directory_name), f\"Directory '{directory_name}' does not exist\"\n",
    "        return pd.read_sql(f'SELECT * FROM {directory_name}', con=self.conn)\n",
    "    \n",
    "    def rename_directory(self, directory_name, new_name):\n",
    "        assert self.__check_directory_exist(directory_name), f\"Directory '{directory_name}' does not exist\"\n",
    "        # Check if another directory under new_name exists\n",
    "        assert not self.__check_directory_exist(new_name), f\"Directory '{new_name}' already exists\"\n",
    "\n",
    "        self.c.execute(f'''ALTER TABLE {directory_name}\n",
    "                           RENAME TO {new_name}''')\n",
    "        self.conn.commit()\n",
    "    \n",
    "    def rename_object(self, directory, filename, new_name):\n",
    "        assert self.__check_directory_exist(directory), f\"Directory '{directory}' does not exist\"\n",
    "\n",
    "        try:\n",
    "            db.c.execute(f'''UPDATE {directory} SET\n",
    "                            filename = \"{new_name}\",\n",
    "                            last_modified = CURRENT_TIMESTAMP\n",
    "                            WHERE filename = \"{filename}\"''')\n",
    "            db.conn.commit()\n",
    "        except sqlite3.IntegrityError:\n",
    "                raise sqlite3.IntegrityError(f\"Another file named '{new_name}' exists under directory '{directory}'\")\n",
    "\n",
    "            "
   ]
  },
  {
   "cell_type": "markdown",
   "id": "2cedb083",
   "metadata": {},
   "source": [
    "Initiate a new `ExtendedObjectStorage` object with the required database name as a parameter. It then immidiately creates a new database with that name and connects to it, or only connects if it already exists. The connection is made via SQLITE."
   ]
  },
  {
   "cell_type": "code",
   "execution_count": 3,
   "id": "407b5b51",
   "metadata": {},
   "outputs": [],
   "source": [
    "db = ExtendedObjectStorage(database='mydb.db')"
   ]
  },
  {
   "cell_type": "markdown",
   "id": "a449feb5",
   "metadata": {},
   "source": [
    "Create a new directory with the directory name as the input. In our implementation, each directory is a sql table."
   ]
  },
  {
   "cell_type": "code",
   "execution_count": 4,
   "id": "b160418b",
   "metadata": {},
   "outputs": [],
   "source": [
    "db.create_directory('betanir')"
   ]
  },
  {
   "cell_type": "markdown",
   "id": "546fe165",
   "metadata": {},
   "source": [
    "You can list the directory. Note the scheme - each directory has the directory name field, the filename, last modified timestamp and an optional data field with a BLOB type (shouldn't be used in the context of a catalog). It is important to note that each (directory, filename) pair serves as a primary key in our SQL table. That ensure no duplicate filenames under the same directory."
   ]
  },
  {
   "cell_type": "code",
   "execution_count": 5,
   "id": "9ea1f208",
   "metadata": {},
   "outputs": [
    {
     "data": {
      "text/html": [
       "<div>\n",
       "<style scoped>\n",
       "    .dataframe tbody tr th:only-of-type {\n",
       "        vertical-align: middle;\n",
       "    }\n",
       "\n",
       "    .dataframe tbody tr th {\n",
       "        vertical-align: top;\n",
       "    }\n",
       "\n",
       "    .dataframe thead th {\n",
       "        text-align: right;\n",
       "    }\n",
       "</style>\n",
       "<table border=\"1\" class=\"dataframe\">\n",
       "  <thead>\n",
       "    <tr style=\"text-align: right;\">\n",
       "      <th></th>\n",
       "      <th>directory</th>\n",
       "      <th>filename</th>\n",
       "      <th>last_modified</th>\n",
       "      <th>data</th>\n",
       "    </tr>\n",
       "  </thead>\n",
       "  <tbody>\n",
       "  </tbody>\n",
       "</table>\n",
       "</div>"
      ],
      "text/plain": [
       "Empty DataFrame\n",
       "Columns: [directory, filename, last_modified, data]\n",
       "Index: []"
      ]
     },
     "execution_count": 5,
     "metadata": {},
     "output_type": "execute_result"
    }
   ],
   "source": [
    "db.list_directory('betanir')"
   ]
  },
  {
   "cell_type": "markdown",
   "id": "3cc5f7db",
   "metadata": {},
   "source": [
    "Let us add some files to examine the data integrity."
   ]
  },
  {
   "cell_type": "code",
   "execution_count": 6,
   "id": "467e3da6",
   "metadata": {},
   "outputs": [
    {
     "data": {
      "text/html": [
       "<div>\n",
       "<style scoped>\n",
       "    .dataframe tbody tr th:only-of-type {\n",
       "        vertical-align: middle;\n",
       "    }\n",
       "\n",
       "    .dataframe tbody tr th {\n",
       "        vertical-align: top;\n",
       "    }\n",
       "\n",
       "    .dataframe thead th {\n",
       "        text-align: right;\n",
       "    }\n",
       "</style>\n",
       "<table border=\"1\" class=\"dataframe\">\n",
       "  <thead>\n",
       "    <tr style=\"text-align: right;\">\n",
       "      <th></th>\n",
       "      <th>directory</th>\n",
       "      <th>filename</th>\n",
       "      <th>last_modified</th>\n",
       "      <th>data</th>\n",
       "    </tr>\n",
       "  </thead>\n",
       "  <tbody>\n",
       "    <tr>\n",
       "      <th>0</th>\n",
       "      <td>betanir/</td>\n",
       "      <td>tst_00.csv</td>\n",
       "      <td>2022-02-16 13:43:17</td>\n",
       "      <td></td>\n",
       "    </tr>\n",
       "    <tr>\n",
       "      <th>1</th>\n",
       "      <td>betanir/</td>\n",
       "      <td>tst_01.csv</td>\n",
       "      <td>2022-02-16 13:43:17</td>\n",
       "      <td></td>\n",
       "    </tr>\n",
       "    <tr>\n",
       "      <th>2</th>\n",
       "      <td>betanir/</td>\n",
       "      <td>tst_02.csv</td>\n",
       "      <td>2022-02-16 13:43:17</td>\n",
       "      <td></td>\n",
       "    </tr>\n",
       "    <tr>\n",
       "      <th>3</th>\n",
       "      <td>betanir/</td>\n",
       "      <td>tst_03.csv</td>\n",
       "      <td>2022-02-16 13:43:17</td>\n",
       "      <td></td>\n",
       "    </tr>\n",
       "    <tr>\n",
       "      <th>4</th>\n",
       "      <td>betanir/</td>\n",
       "      <td>tst_04.csv</td>\n",
       "      <td>2022-02-16 13:43:17</td>\n",
       "      <td></td>\n",
       "    </tr>\n",
       "    <tr>\n",
       "      <th>...</th>\n",
       "      <td>...</td>\n",
       "      <td>...</td>\n",
       "      <td>...</td>\n",
       "      <td>...</td>\n",
       "    </tr>\n",
       "    <tr>\n",
       "      <th>95</th>\n",
       "      <td>betanir/</td>\n",
       "      <td>tst_95.csv</td>\n",
       "      <td>2022-02-16 13:43:18</td>\n",
       "      <td></td>\n",
       "    </tr>\n",
       "    <tr>\n",
       "      <th>96</th>\n",
       "      <td>betanir/</td>\n",
       "      <td>tst_96.csv</td>\n",
       "      <td>2022-02-16 13:43:18</td>\n",
       "      <td></td>\n",
       "    </tr>\n",
       "    <tr>\n",
       "      <th>97</th>\n",
       "      <td>betanir/</td>\n",
       "      <td>tst_97.csv</td>\n",
       "      <td>2022-02-16 13:43:18</td>\n",
       "      <td></td>\n",
       "    </tr>\n",
       "    <tr>\n",
       "      <th>98</th>\n",
       "      <td>betanir/</td>\n",
       "      <td>tst_98.csv</td>\n",
       "      <td>2022-02-16 13:43:18</td>\n",
       "      <td></td>\n",
       "    </tr>\n",
       "    <tr>\n",
       "      <th>99</th>\n",
       "      <td>betanir/</td>\n",
       "      <td>tst_99.csv</td>\n",
       "      <td>2022-02-16 13:43:18</td>\n",
       "      <td></td>\n",
       "    </tr>\n",
       "  </tbody>\n",
       "</table>\n",
       "<p>100 rows × 4 columns</p>\n",
       "</div>"
      ],
      "text/plain": [
       "   directory    filename        last_modified data\n",
       "0   betanir/  tst_00.csv  2022-02-16 13:43:17     \n",
       "1   betanir/  tst_01.csv  2022-02-16 13:43:17     \n",
       "2   betanir/  tst_02.csv  2022-02-16 13:43:17     \n",
       "3   betanir/  tst_03.csv  2022-02-16 13:43:17     \n",
       "4   betanir/  tst_04.csv  2022-02-16 13:43:17     \n",
       "..       ...         ...                  ...  ...\n",
       "95  betanir/  tst_95.csv  2022-02-16 13:43:18     \n",
       "96  betanir/  tst_96.csv  2022-02-16 13:43:18     \n",
       "97  betanir/  tst_97.csv  2022-02-16 13:43:18     \n",
       "98  betanir/  tst_98.csv  2022-02-16 13:43:18     \n",
       "99  betanir/  tst_99.csv  2022-02-16 13:43:18     \n",
       "\n",
       "[100 rows x 4 columns]"
      ]
     },
     "execution_count": 6,
     "metadata": {},
     "output_type": "execute_result"
    }
   ],
   "source": [
    "for i in range(100):\n",
    "    db.create_object('betanir', f'tst_{str(i).zfill(2)}.csv')\n",
    "db.list_directory('betanir')"
   ]
  },
  {
   "cell_type": "markdown",
   "id": "d93ccf36",
   "metadata": {},
   "source": [
    "Trying to add a file with existing name yields a well described Integrity error:"
   ]
  },
  {
   "cell_type": "code",
   "execution_count": 7,
   "id": "78ac6177",
   "metadata": {},
   "outputs": [
    {
     "ename": "IntegrityError",
     "evalue": "Another file named 'tst_01.csv' exists under directory 'betanir'",
     "output_type": "error",
     "traceback": [
      "\u001b[1;31m---------------------------------------------------------------------------\u001b[0m",
      "\u001b[1;31mIntegrityError\u001b[0m                            Traceback (most recent call last)",
      "\u001b[1;32mc:\\Users\\guypa\\OneDrive\\Studies\\IDC\\MSc Machine Learning and Data Science\\Semester 1\\Big Data Platform\\Final Project\\paper_work.ipynb Cell 3'\u001b[0m in \u001b[0;36mExtendedObjectStorage.create_object\u001b[1;34m(self, directory, filename, data)\u001b[0m\n\u001b[0;32m     <a href='vscode-notebook-cell:/c%3A/Users/guypa/OneDrive/Studies/IDC/MSc%20Machine%20Learning%20and%20Data%20Science/Semester%201/Big%20Data%20Platform/Final%20Project/paper_work.ipynb#ch0000003?line=12'>13</a>\u001b[0m \u001b[39mtry\u001b[39;00m:\n\u001b[1;32m---> <a href='vscode-notebook-cell:/c%3A/Users/guypa/OneDrive/Studies/IDC/MSc%20Machine%20Learning%20and%20Data%20Science/Semester%201/Big%20Data%20Platform/Final%20Project/paper_work.ipynb#ch0000003?line=13'>14</a>\u001b[0m     \u001b[39mself\u001b[39;49m\u001b[39m.\u001b[39;49mconn\u001b[39m.\u001b[39;49mexecute(\u001b[39mf\u001b[39;49m\u001b[39m'''\u001b[39;49m\u001b[39mINSERT INTO \u001b[39;49m\u001b[39m{\u001b[39;49;00mdirectory\u001b[39m}\u001b[39;49;00m\u001b[39m (directory,filename, data) VALUES\u001b[39;49m\n\u001b[0;32m     <a href='vscode-notebook-cell:/c%3A/Users/guypa/OneDrive/Studies/IDC/MSc%20Machine%20Learning%20and%20Data%20Science/Semester%201/Big%20Data%20Platform/Final%20Project/paper_work.ipynb#ch0000003?line=14'>15</a>\u001b[0m \u001b[39m        (\u001b[39;49m\u001b[39m\"\u001b[39;49m\u001b[39m{\u001b[39;49;00mdirectory\u001b[39m}\u001b[39;49;00m\u001b[39m/\u001b[39;49m\u001b[39m\"\u001b[39;49m\u001b[39m, \u001b[39;49m\u001b[39m\"\u001b[39;49m\u001b[39m{\u001b[39;49;00mfilename\u001b[39m}\u001b[39;49;00m\u001b[39m\"\u001b[39;49m\u001b[39m, \u001b[39;49m\u001b[39m\"\u001b[39;49m\u001b[39m{\u001b[39;49;00mdata\u001b[39m}\u001b[39;49;00m\u001b[39m\"\u001b[39;49m\u001b[39m)\u001b[39;49m\u001b[39m'''\u001b[39;49m\n\u001b[0;32m     <a href='vscode-notebook-cell:/c%3A/Users/guypa/OneDrive/Studies/IDC/MSc%20Machine%20Learning%20and%20Data%20Science/Semester%201/Big%20Data%20Platform/Final%20Project/paper_work.ipynb#ch0000003?line=15'>16</a>\u001b[0m     )\n\u001b[0;32m     <a href='vscode-notebook-cell:/c%3A/Users/guypa/OneDrive/Studies/IDC/MSc%20Machine%20Learning%20and%20Data%20Science/Semester%201/Big%20Data%20Platform/Final%20Project/paper_work.ipynb#ch0000003?line=16'>17</a>\u001b[0m     \u001b[39mself\u001b[39m\u001b[39m.\u001b[39mconn\u001b[39m.\u001b[39mcommit()\n",
      "\u001b[1;31mIntegrityError\u001b[0m: UNIQUE constraint failed: betanir.filename",
      "\nDuring handling of the above exception, another exception occurred:\n",
      "\u001b[1;31mIntegrityError\u001b[0m                            Traceback (most recent call last)",
      "\u001b[1;32mc:\\Users\\guypa\\OneDrive\\Studies\\IDC\\MSc Machine Learning and Data Science\\Semester 1\\Big Data Platform\\Final Project\\paper_work.ipynb Cell 13'\u001b[0m in \u001b[0;36m<module>\u001b[1;34m\u001b[0m\n\u001b[1;32m----> <a href='vscode-notebook-cell:/c%3A/Users/guypa/OneDrive/Studies/IDC/MSc%20Machine%20Learning%20and%20Data%20Science/Semester%201/Big%20Data%20Platform/Final%20Project/paper_work.ipynb#ch0000013?line=0'>1</a>\u001b[0m db\u001b[39m.\u001b[39;49mcreate_object(\u001b[39m'\u001b[39;49m\u001b[39mbetanir\u001b[39;49m\u001b[39m'\u001b[39;49m, \u001b[39m'\u001b[39;49m\u001b[39mtst_01.csv\u001b[39;49m\u001b[39m'\u001b[39;49m)\n",
      "\u001b[1;32mc:\\Users\\guypa\\OneDrive\\Studies\\IDC\\MSc Machine Learning and Data Science\\Semester 1\\Big Data Platform\\Final Project\\paper_work.ipynb Cell 3'\u001b[0m in \u001b[0;36mExtendedObjectStorage.create_object\u001b[1;34m(self, directory, filename, data)\u001b[0m\n\u001b[0;32m     <a href='vscode-notebook-cell:/c%3A/Users/guypa/OneDrive/Studies/IDC/MSc%20Machine%20Learning%20and%20Data%20Science/Semester%201/Big%20Data%20Platform/Final%20Project/paper_work.ipynb#ch0000003?line=16'>17</a>\u001b[0m     \u001b[39mself\u001b[39m\u001b[39m.\u001b[39mconn\u001b[39m.\u001b[39mcommit()\n\u001b[0;32m     <a href='vscode-notebook-cell:/c%3A/Users/guypa/OneDrive/Studies/IDC/MSc%20Machine%20Learning%20and%20Data%20Science/Semester%201/Big%20Data%20Platform/Final%20Project/paper_work.ipynb#ch0000003?line=17'>18</a>\u001b[0m \u001b[39mexcept\u001b[39;00m sqlite3\u001b[39m.\u001b[39mIntegrityError:\n\u001b[1;32m---> <a href='vscode-notebook-cell:/c%3A/Users/guypa/OneDrive/Studies/IDC/MSc%20Machine%20Learning%20and%20Data%20Science/Semester%201/Big%20Data%20Platform/Final%20Project/paper_work.ipynb#ch0000003?line=18'>19</a>\u001b[0m     \u001b[39mraise\u001b[39;00m sqlite3\u001b[39m.\u001b[39mIntegrityError(\u001b[39mf\u001b[39m\u001b[39m\"\u001b[39m\u001b[39mAnother file named \u001b[39m\u001b[39m'\u001b[39m\u001b[39m{\u001b[39;00mfilename\u001b[39m}\u001b[39;00m\u001b[39m'\u001b[39m\u001b[39m exists under directory \u001b[39m\u001b[39m'\u001b[39m\u001b[39m{\u001b[39;00mdirectory\u001b[39m}\u001b[39;00m\u001b[39m'\u001b[39m\u001b[39m\"\u001b[39m)\n",
      "\u001b[1;31mIntegrityError\u001b[0m: Another file named 'tst_01.csv' exists under directory 'betanir'"
     ]
    }
   ],
   "source": [
    "db.create_object('betanir', 'tst_01.csv')"
   ]
  },
  {
   "cell_type": "markdown",
   "id": "804bb49a",
   "metadata": {},
   "source": [
    "As promised, Renaming a file is an atomic O(1) operation. Note how the `last_modified` timestamp is affected."
   ]
  },
  {
   "cell_type": "code",
   "execution_count": 8,
   "id": "0ed1adc0",
   "metadata": {},
   "outputs": [
    {
     "data": {
      "text/html": [
       "<div>\n",
       "<style scoped>\n",
       "    .dataframe tbody tr th:only-of-type {\n",
       "        vertical-align: middle;\n",
       "    }\n",
       "\n",
       "    .dataframe tbody tr th {\n",
       "        vertical-align: top;\n",
       "    }\n",
       "\n",
       "    .dataframe thead th {\n",
       "        text-align: right;\n",
       "    }\n",
       "</style>\n",
       "<table border=\"1\" class=\"dataframe\">\n",
       "  <thead>\n",
       "    <tr style=\"text-align: right;\">\n",
       "      <th></th>\n",
       "      <th>directory</th>\n",
       "      <th>filename</th>\n",
       "      <th>last_modified</th>\n",
       "      <th>data</th>\n",
       "    </tr>\n",
       "  </thead>\n",
       "  <tbody>\n",
       "    <tr>\n",
       "      <th>0</th>\n",
       "      <td>betanir/</td>\n",
       "      <td>tst_00.csv</td>\n",
       "      <td>2022-02-16 13:43:17</td>\n",
       "      <td></td>\n",
       "    </tr>\n",
       "    <tr>\n",
       "      <th>1</th>\n",
       "      <td>betanir/</td>\n",
       "      <td>tst.csv</td>\n",
       "      <td>2022-02-16 13:43:35</td>\n",
       "      <td></td>\n",
       "    </tr>\n",
       "    <tr>\n",
       "      <th>2</th>\n",
       "      <td>betanir/</td>\n",
       "      <td>tst_02.csv</td>\n",
       "      <td>2022-02-16 13:43:17</td>\n",
       "      <td></td>\n",
       "    </tr>\n",
       "    <tr>\n",
       "      <th>3</th>\n",
       "      <td>betanir/</td>\n",
       "      <td>tst_03.csv</td>\n",
       "      <td>2022-02-16 13:43:17</td>\n",
       "      <td></td>\n",
       "    </tr>\n",
       "    <tr>\n",
       "      <th>4</th>\n",
       "      <td>betanir/</td>\n",
       "      <td>tst_04.csv</td>\n",
       "      <td>2022-02-16 13:43:17</td>\n",
       "      <td></td>\n",
       "    </tr>\n",
       "  </tbody>\n",
       "</table>\n",
       "</div>"
      ],
      "text/plain": [
       "  directory    filename        last_modified data\n",
       "0  betanir/  tst_00.csv  2022-02-16 13:43:17     \n",
       "1  betanir/     tst.csv  2022-02-16 13:43:35     \n",
       "2  betanir/  tst_02.csv  2022-02-16 13:43:17     \n",
       "3  betanir/  tst_03.csv  2022-02-16 13:43:17     \n",
       "4  betanir/  tst_04.csv  2022-02-16 13:43:17     "
      ]
     },
     "execution_count": 8,
     "metadata": {},
     "output_type": "execute_result"
    }
   ],
   "source": [
    "db.rename_object('betanir', 'tst_01.csv', 'tst.csv')\n",
    "db.list_directory('betanir').head()"
   ]
  },
  {
   "cell_type": "markdown",
   "id": "a332f0de",
   "metadata": {},
   "source": [
    "Removing an object also has it's own method. Trying to remove a file which doesn't exists raises an error."
   ]
  },
  {
   "cell_type": "code",
   "execution_count": 9,
   "id": "2a2a35a5",
   "metadata": {},
   "outputs": [
    {
     "data": {
      "text/html": [
       "<div>\n",
       "<style scoped>\n",
       "    .dataframe tbody tr th:only-of-type {\n",
       "        vertical-align: middle;\n",
       "    }\n",
       "\n",
       "    .dataframe tbody tr th {\n",
       "        vertical-align: top;\n",
       "    }\n",
       "\n",
       "    .dataframe thead th {\n",
       "        text-align: right;\n",
       "    }\n",
       "</style>\n",
       "<table border=\"1\" class=\"dataframe\">\n",
       "  <thead>\n",
       "    <tr style=\"text-align: right;\">\n",
       "      <th></th>\n",
       "      <th>directory</th>\n",
       "      <th>filename</th>\n",
       "      <th>last_modified</th>\n",
       "      <th>data</th>\n",
       "    </tr>\n",
       "  </thead>\n",
       "  <tbody>\n",
       "    <tr>\n",
       "      <th>0</th>\n",
       "      <td>betanir/</td>\n",
       "      <td>tst_00.csv</td>\n",
       "      <td>2022-02-16 13:43:17</td>\n",
       "      <td></td>\n",
       "    </tr>\n",
       "    <tr>\n",
       "      <th>1</th>\n",
       "      <td>betanir/</td>\n",
       "      <td>tst_02.csv</td>\n",
       "      <td>2022-02-16 13:43:17</td>\n",
       "      <td></td>\n",
       "    </tr>\n",
       "    <tr>\n",
       "      <th>2</th>\n",
       "      <td>betanir/</td>\n",
       "      <td>tst_03.csv</td>\n",
       "      <td>2022-02-16 13:43:17</td>\n",
       "      <td></td>\n",
       "    </tr>\n",
       "    <tr>\n",
       "      <th>3</th>\n",
       "      <td>betanir/</td>\n",
       "      <td>tst_04.csv</td>\n",
       "      <td>2022-02-16 13:43:17</td>\n",
       "      <td></td>\n",
       "    </tr>\n",
       "    <tr>\n",
       "      <th>4</th>\n",
       "      <td>betanir/</td>\n",
       "      <td>tst_05.csv</td>\n",
       "      <td>2022-02-16 13:43:17</td>\n",
       "      <td></td>\n",
       "    </tr>\n",
       "  </tbody>\n",
       "</table>\n",
       "</div>"
      ],
      "text/plain": [
       "  directory    filename        last_modified data\n",
       "0  betanir/  tst_00.csv  2022-02-16 13:43:17     \n",
       "1  betanir/  tst_02.csv  2022-02-16 13:43:17     \n",
       "2  betanir/  tst_03.csv  2022-02-16 13:43:17     \n",
       "3  betanir/  tst_04.csv  2022-02-16 13:43:17     \n",
       "4  betanir/  tst_05.csv  2022-02-16 13:43:17     "
      ]
     },
     "execution_count": 9,
     "metadata": {},
     "output_type": "execute_result"
    }
   ],
   "source": [
    "db.delete_object('betanir', 'tst.csv')\n",
    "db.list_directory('betanir').head()"
   ]
  },
  {
   "cell_type": "markdown",
   "id": "4eb2f7ac",
   "metadata": {},
   "source": [
    "As this system is originally made for object storage integration, the `get_object` method should originally get the file from object storage via GET operation, using his cloud provider's API. Therefore, the method can be easily modified by the user to fit his needs.\n",
    "\n",
    "On the vanila prototype version we assume the data is stored in the SQL table in the `data` BLOB column, so the `get_object` operation should yield the object itself. For the sake of this demonstration, we add the same file we deleted in the previous cell with an actual data."
   ]
  },
  {
   "cell_type": "code",
   "execution_count": 10,
   "id": "84fee814",
   "metadata": {},
   "outputs": [
    {
     "data": {
      "text/plain": [
       "'firstname,secondname,city\\nAlbert,Cohen,Haifa\\nScott,Cohen,NewYork'"
      ]
     },
     "execution_count": 10,
     "metadata": {},
     "output_type": "execute_result"
    }
   ],
   "source": [
    "data = 'firstname,secondname,city\\nAlbert,Cohen,Haifa\\nScott,Cohen,NewYork'\n",
    "db.create_object('betanir', 'tst_01.csv', data=data)\n",
    "db.get_object('betanir', 'tst_01.csv')\n"
   ]
  },
  {
   "cell_type": "markdown",
   "id": "19b7f177",
   "metadata": {},
   "source": [
    "A directory can be removed easily, simply by dropping the SQL table having that directory name. Note that trying to list a removed (or nonexist) directory will also result in an error."
   ]
  },
  {
   "cell_type": "code",
   "execution_count": 11,
   "id": "a5196e90",
   "metadata": {},
   "outputs": [],
   "source": [
    "db.delete_directory('betanir')"
   ]
  },
  {
   "cell_type": "code",
   "execution_count": 12,
   "id": "8b30d736",
   "metadata": {},
   "outputs": [
    {
     "ename": "AssertionError",
     "evalue": "Directory 'betanir' does not exist",
     "output_type": "error",
     "traceback": [
      "\u001b[1;31m---------------------------------------------------------------------------\u001b[0m",
      "\u001b[1;31mAssertionError\u001b[0m                            Traceback (most recent call last)",
      "\u001b[1;32mc:\\Users\\guypa\\OneDrive\\Studies\\IDC\\MSc Machine Learning and Data Science\\Semester 1\\Big Data Platform\\Final Project\\paper_work.ipynb Cell 22'\u001b[0m in \u001b[0;36m<module>\u001b[1;34m\u001b[0m\n\u001b[1;32m----> <a href='vscode-notebook-cell:/c%3A/Users/guypa/OneDrive/Studies/IDC/MSc%20Machine%20Learning%20and%20Data%20Science/Semester%201/Big%20Data%20Platform/Final%20Project/paper_work.ipynb#ch0000022?line=0'>1</a>\u001b[0m db\u001b[39m.\u001b[39;49mlist_directory(\u001b[39m'\u001b[39;49m\u001b[39mbetanir\u001b[39;49m\u001b[39m'\u001b[39;49m)\n",
      "\u001b[1;32mc:\\Users\\guypa\\OneDrive\\Studies\\IDC\\MSc Machine Learning and Data Science\\Semester 1\\Big Data Platform\\Final Project\\paper_work.ipynb Cell 3'\u001b[0m in \u001b[0;36mExtendedObjectStorage.list_directory\u001b[1;34m(self, directory_name)\u001b[0m\n\u001b[0;32m     <a href='vscode-notebook-cell:/c%3A/Users/guypa/OneDrive/Studies/IDC/MSc%20Machine%20Learning%20and%20Data%20Science/Semester%201/Big%20Data%20Platform/Final%20Project/paper_work.ipynb#ch0000003?line=51'>52</a>\u001b[0m \u001b[39mdef\u001b[39;00m \u001b[39mlist_directory\u001b[39m(\u001b[39mself\u001b[39m, directory_name):\n\u001b[1;32m---> <a href='vscode-notebook-cell:/c%3A/Users/guypa/OneDrive/Studies/IDC/MSc%20Machine%20Learning%20and%20Data%20Science/Semester%201/Big%20Data%20Platform/Final%20Project/paper_work.ipynb#ch0000003?line=52'>53</a>\u001b[0m     \u001b[39massert\u001b[39;00m \u001b[39mself\u001b[39m\u001b[39m.\u001b[39m__check_directory_exist(directory_name), \u001b[39mf\u001b[39m\u001b[39m\"\u001b[39m\u001b[39mDirectory \u001b[39m\u001b[39m'\u001b[39m\u001b[39m{\u001b[39;00mdirectory_name\u001b[39m}\u001b[39;00m\u001b[39m'\u001b[39m\u001b[39m does not exist\u001b[39m\u001b[39m\"\u001b[39m\n\u001b[0;32m     <a href='vscode-notebook-cell:/c%3A/Users/guypa/OneDrive/Studies/IDC/MSc%20Machine%20Learning%20and%20Data%20Science/Semester%201/Big%20Data%20Platform/Final%20Project/paper_work.ipynb#ch0000003?line=53'>54</a>\u001b[0m     \u001b[39mreturn\u001b[39;00m pd\u001b[39m.\u001b[39mread_sql(\u001b[39mf\u001b[39m\u001b[39m'\u001b[39m\u001b[39mSELECT * FROM \u001b[39m\u001b[39m{\u001b[39;00mdirectory_name\u001b[39m}\u001b[39;00m\u001b[39m'\u001b[39m, con\u001b[39m=\u001b[39m\u001b[39mself\u001b[39m\u001b[39m.\u001b[39mconn)\n",
      "\u001b[1;31mAssertionError\u001b[0m: Directory 'betanir' does not exist"
     ]
    }
   ],
   "source": [
    "db.list_directory('betanir')"
   ]
  },
  {
   "cell_type": "markdown",
   "id": "205e9685",
   "metadata": {},
   "source": [
    "Finally, close the connection to the database. You can also remove the database itself using the hashed out command."
   ]
  },
  {
   "cell_type": "code",
   "execution_count": 13,
   "id": "4547e66e",
   "metadata": {},
   "outputs": [],
   "source": [
    "db.conn.close()\n",
    "\n",
    "# Optional - remove database\n",
    "# os.remove('./mydb.db')"
   ]
  }
 ],
 "metadata": {
  "kernelspec": {
   "display_name": "Python 3 (ipykernel)",
   "language": "python",
   "name": "python3"
  },
  "language_info": {
   "codemirror_mode": {
    "name": "ipython",
    "version": 3
   },
   "file_extension": ".py",
   "mimetype": "text/x-python",
   "name": "python",
   "nbconvert_exporter": "python",
   "pygments_lexer": "ipython3",
   "version": "3.10.2"
  }
 },
 "nbformat": 4,
 "nbformat_minor": 5
}
